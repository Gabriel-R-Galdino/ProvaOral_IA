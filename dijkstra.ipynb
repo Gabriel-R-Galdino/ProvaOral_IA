{
 "cells": [
  {
   "cell_type": "markdown",
   "id": "747ca837",
   "metadata": {},
   "source": [
    "# Análise e Implementação do Algoritmo de Dijkstra\n",
    "O **Algoritmo de Dijkstra**, também conhecido no contexto da Inteligência Artificial como **Busca de Custo Uniforme (Uniform Cost Search - UCS)**. Faremos uma análise teórica de suas propriedades e o compararemos com outros algoritmos de busca. Ao final, apresentaremos uma implementação em Python utilizando uma estrutura de dados avançada, o **Heap de Fibonacci**, para otimização.\n"
   ]
  },
  {
   "cell_type": "markdown",
   "id": "49a8afda",
   "metadata": {},
   "source": [
    "## 1. Análise da Busca de Custo Uniforme (Algoritmo de Dijkstra)\n",
    "\n",
    "A Busca de Custo Uniforme é uma estratégia de busca sem informação que pode ser implementada como uma busca de \"Melhor Primeira Escolha\", onde a fronteira (o conjunto de nós a serem explorados) é gerenciada por uma fila de prioridades ordenada pela função de custo do caminho acumulado ($g(n)$).\n",
    "\n",
    "### **Propriedades do Algoritmo**\n",
    "\n",
    "- **Completude:** **Sim**, o algoritmo é completo. Ele garante que encontrará uma solução se ela existir, desde que os custos das ações sejam maiores que um valor positivo mínimo ($\\epsilon > 0$) para evitar ciclos de custo zero.\n",
    "- **Entrega da Solução Ótima:** **Sim**, esta é a sua principal força. O algoritmo sempre encontra a solução de menor custo. Como ele expande os nós em ordem crescente de custo acumulado, a primeira vez que atinge um nó objetivo, é garantido que o caminho encontrado é o mais barato possível.\n",
    "- **Complexidade de Tempo e Espaço:** A complexidade é de **$O(b^{1+\\lfloor C^{*}/\\epsilon\\rfloor})$**, onde `b` é o fator de ramificação, $C^{*}$ é o custo da solução ótima e $\\epsilon$ é o menor custo de ação. Isso demonstra que sua performance é sensível não apenas ao número de \"passos\", mas também ao custo total do caminho. Com implementações otimizadas (como heaps), a complexidade de tempo é frequentemente descrita como $O(E + V \\log V)$, onde `V` são os vértices e `E` as arestas.\n"
   ]
  },
  {
   "cell_type": "markdown",
   "id": "4145d89e",
   "metadata": {},
   "source": [
    "## 2. Comparativo: Busca de Custo Uniforme vs. Busca em Largura\n",
    "\n",
    "| Característica | Busca de Custo Uniforme (UCS / Dijkstra) | Busca em Largura (BFS) |\n",
    "| :--- | :--- | :--- |\n",
    "| **Critério de Expansão** | Expande o nó com o menor **custo de caminho acumulado** ($g(n)$). | Expande o nó na **menor profundidade** (menor número de ações). |\n",
    "| **Estrutura de Dados**| Utiliza uma **fila de prioridade** (como um heap) ordenada pelo custo. | Utiliza uma **fila comum (FIFO)**. |\n",
    "| **Garantia de Otimização** | **Sempre** encontra a solução de menor custo (para custos não negativos). | Só garante a solução de menor custo se **todas as ações tiverem custos idênticos**. |\n",
    "| **Diferença Fundamental** | É uma generalização da BFS, projetada para lidar com custos de ação variáveis. | Pode ser vista como um caso especial da UCS, onde todos os custos de ação são iguais a 1. |\n"
   ]
  },
  {
   "cell_type": "markdown",
   "id": "844054ca",
   "metadata": {},
   "source": [
    "## 3. Implementação com Heap de Fibonacci\n",
    "\n",
    "A eficiência do Algoritmo de Dijkstra depende fortemente da estrutura de dados usada para a fila de prioridade. Um **Heap de Fibonacci** é uma estrutura de dados que oferece um desempenho amortizado mais rápido para a operação de \"diminuir a chave\" (essencial quando encontramos um caminho mais curto para um nó que já está na fronteira). Isso torna a implementação geral mais rápida, especialmente em grafos densos.\n"
   ]
  },
  {
   "cell_type": "code",
   "execution_count": null,
   "id": "79d13c7f",
   "metadata": {},
   "outputs": [
    {
     "name": "stdout",
     "output_type": "stream",
     "text": [
      "Defaulting to user installation because normal site-packages is not writeable\n",
      "Requirement already satisfied: fibheap in c:\\users\\user\\appdata\\roaming\\python\\python313\\site-packages (0.2.1)\n",
      "Note: you may need to restart the kernel to use updated packages.\n"
     ]
    }
   ],
   "source": [
    "pip install fibheap # Não tava funcionando "
   ]
  },
  {
   "cell_type": "code",
   "execution_count": 1,
   "id": "6c45c34a",
   "metadata": {},
   "outputs": [],
   "source": [
    "import math\n",
    "import heapq\n",
    "\n",
    "def dijkstra_fibonacci_heap(graph, start_node):\n",
    "    \"\"\"\n",
    "    Implementação prática do Dijkstra usando heapq (min-heap binário).\n",
    "    A complexidade é O((V + E) log V), similar à versão com Fibonacci Heap\n",
    "    para grafos de tamanho moderado.\n",
    "    \"\"\"\n",
    "    \n",
    "    distances = {node: math.inf for node in graph}\n",
    "    distances[start_node] = 0\n",
    "    previous_nodes = {node: None for node in graph}\n",
    "    \n",
    "    pq = [(0, start_node)]  # (distância, nó)\n",
    "    \n",
    "    while pq:\n",
    "        current_dist, current_node = heapq.heappop(pq)\n",
    "        \n",
    "        if current_dist > distances[current_node]:\n",
    "            continue\n",
    "        \n",
    "        for neighbor, weight in graph[current_node].items():\n",
    "            new_dist = current_dist + weight\n",
    "            \n",
    "            if new_dist < distances[neighbor]:\n",
    "                distances[neighbor] = new_dist\n",
    "                previous_nodes[neighbor] = current_node\n",
    "                heapq.heappush(pq, (new_dist, neighbor))\n",
    "    \n",
    "    return distances, previous_nodes\n",
    "\n",
    "\n",
    "def reconstruct_path(previous_nodes, start_node, end_node):\n",
    "    path = []\n",
    "    current = end_node\n",
    "    while current is not None:\n",
    "        path.insert(0, current)\n",
    "        current = previous_nodes.get(current)\n",
    "    return path if path and path[0] == start_node else None"
   ]
  },
  {
   "cell_type": "code",
   "execution_count": 2,
   "id": "1584a37d",
   "metadata": {},
   "outputs": [
    {
     "name": "stdout",
     "output_type": "stream",
     "text": [
      "Análise do caminho de 'Arad' para 'Bucharest':\n",
      "\n",
      "  -> Custo total do caminho mais curto: 418\n",
      "  -> Caminho: Arad -> Sibiu -> Rimnicu Vilcea -> Pitesti -> Bucharest\n"
     ]
    }
   ],
   "source": [
    "# --- Teste com o grafo da Romênia ---\n",
    "romania_graph = {\n",
    "    'Arad': {'Zerind': 75, 'Sibiu': 140, 'Timisoara': 118},\n",
    "    'Zerind': {'Arad': 75, 'Oradea': 71},\n",
    "    'Oradea': {'Zerind': 71, 'Sibiu': 151},\n",
    "    'Sibiu': {'Arad': 140, 'Oradea': 151, 'Fagaras': 99, 'Rimnicu Vilcea': 80},\n",
    "    'Timisoara': {'Arad': 118, 'Lugoj': 111},\n",
    "    'Lugoj': {'Timisoara': 111, 'Mehadia': 70},\n",
    "    'Mehadia': {'Lugoj': 70, 'Drobeta': 75},\n",
    "    'Drobeta': {'Mehadia': 75, 'Craiova': 120},\n",
    "    'Craiova': {'Drobeta': 120, 'Rimnicu Vilcea': 146, 'Pitesti': 138},\n",
    "    'Rimnicu Vilcea': {'Sibiu': 80, 'Craiova': 146, 'Pitesti': 97},\n",
    "    'Fagaras': {'Sibiu': 99, 'Bucharest': 211},\n",
    "    'Pitesti': {'Rimnicu Vilcea': 97, 'Craiova': 138, 'Bucharest': 101},\n",
    "    'Bucharest': {'Fagaras': 211, 'Pitesti': 101, 'Giurgiu': 90, 'Urziceni': 85},\n",
    "    'Giurgiu': {'Bucharest': 90},\n",
    "    'Urziceni': {'Bucharest': 85, 'Hirsova': 98, 'Vaslui': 142},\n",
    "    'Hirsova': {'Urziceni': 98, 'Eforie': 86},\n",
    "    'Eforie': {'Hirsova': 86},\n",
    "    'Vaslui': {'Urziceni': 142, 'Iasi': 92},\n",
    "    'Iasi': {'Vaslui': 92, 'Neamt': 87},\n",
    "    'Neamt': {'Iasi': 87}\n",
    "}\n",
    "\n",
    "start = 'Arad'\n",
    "end = 'Bucharest'\n",
    "\n",
    "distances, previous = dijkstra_fibonacci_heap(romania_graph, start)\n",
    "path = reconstruct_path(previous, start, end)\n",
    "\n",
    "print(f\"Análise do caminho de '{start}' para '{end}':\\n\")\n",
    "if path:\n",
    "    print(f\"  -> Custo total do caminho mais curto: {distances[end]}\")\n",
    "    print(f\"  -> Caminho: {' -> '.join(path)}\")\n",
    "else:\n",
    "    print(\"Não foi possível encontrar um caminho.\")"
   ]
  }
 ],
 "metadata": {
  "kernelspec": {
   "display_name": "Python 3",
   "language": "python",
   "name": "python3"
  },
  "language_info": {
   "codemirror_mode": {
    "name": "ipython",
    "version": 3
   },
   "file_extension": ".py",
   "mimetype": "text/x-python",
   "name": "python",
   "nbconvert_exporter": "python",
   "pygments_lexer": "ipython3",
   "version": "3.13.3"
  }
 },
 "nbformat": 4,
 "nbformat_minor": 5
}
